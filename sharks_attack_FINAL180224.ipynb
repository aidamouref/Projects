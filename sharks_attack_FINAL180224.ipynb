{
 "cells": [
  {
   "cell_type": "code",
   "execution_count": 1,
   "metadata": {},
   "outputs": [
    {
     "name": "stderr",
     "output_type": "stream",
     "text": [
      "C:\\Users\\Aida\\AppData\\Local\\Temp\\ipykernel_1876\\3419400629.py:5: DeprecationWarning: \n",
      "Pyarrow will become a required dependency of pandas in the next major release of pandas (pandas 3.0),\n",
      "(to allow more performant data types, such as the Arrow string type, and better interoperability with other libraries)\n",
      "but was not found to be installed on your system.\n",
      "If this would cause problems for you,\n",
      "please provide us feedback at https://github.com/pandas-dev/pandas/issues/54466\n",
      "        \n",
      "  import pandas as pd\n"
     ]
    }
   ],
   "source": [
    "### PROJECT 1. SHARK ATTACKS!!!\n",
    "\n",
    "#Import the necessary libraries\n",
    "\n",
    "import pandas as pd\n",
    "import numpy as np\n",
    "import re\n",
    "import plotly.express as px\n",
    "import plotly.graph_objects as go\n",
    "import seaborn as sns\n",
    "import matplotlib.pyplot as plt\n",
    "from wordcloud import WordCloud, ImageColorGenerator, STOPWORDS # We will explain now the StopWord importation\n",
    "from PIL import Image  # pip install pillow"
   ]
  },
  {
   "cell_type": "code",
   "execution_count": 2,
   "metadata": {},
   "outputs": [
    {
     "data": {
      "text/plain": [
       "<_io.TextIOWrapper name='datasets/attacks.csv' mode='r' encoding='utf-8'>"
      ]
     },
     "execution_count": 2,
     "metadata": {},
     "output_type": "execute_result"
    }
   ],
   "source": [
    "open(\"datasets/attacks.csv\")"
   ]
  },
  {
   "cell_type": "code",
   "execution_count": 3,
   "metadata": {},
   "outputs": [],
   "source": [
    "attack = pd.read_csv('datasets/attacks.csv', encoding=\"cp1252\")"
   ]
  },
  {
   "cell_type": "code",
   "execution_count": 4,
   "metadata": {},
   "outputs": [
    {
     "data": {
      "text/plain": [
       "(25723, 24)"
      ]
     },
     "execution_count": 4,
     "metadata": {},
     "output_type": "execute_result"
    }
   ],
   "source": [
    "attack_clean=attack.copy()\n",
    "attack_clean.shape"
   ]
  },
  {
   "cell_type": "code",
   "execution_count": 5,
   "metadata": {},
   "outputs": [
    {
     "data": {
      "text/plain": [
       "Case Number               17021\n",
       "Date                      19421\n",
       "Year                      19423\n",
       "Type                      19425\n",
       "Country                   19471\n",
       "Area                      19876\n",
       "Location                  19961\n",
       "Activity                  19965\n",
       "Name                      19631\n",
       "Sex                       19986\n",
       "Age                       22252\n",
       "Injury                    19449\n",
       "Fatal (Y/N)               19960\n",
       "Time                      22775\n",
       "Species                   22259\n",
       "Investigator or Source    19438\n",
       "pdf                       19421\n",
       "href formula              19422\n",
       "href                      19421\n",
       "Case Number.1             19421\n",
       "Case Number.2             19421\n",
       "original order            19414\n",
       "Unnamed: 22               25722\n",
       "Unnamed: 23               25721\n",
       "dtype: int64"
      ]
     },
     "execution_count": 5,
     "metadata": {},
     "output_type": "execute_result"
    }
   ],
   "source": [
    "#check for missing data\n",
    "\n",
    "mv= pd.isnull(attack_clean)\n",
    "mc = mv.sum() \n",
    "mc #we have LOTS of missing data!! almost 70% of data in each variable is missing!"
   ]
  },
  {
   "cell_type": "code",
   "execution_count": 6,
   "metadata": {},
   "outputs": [
    {
     "data": {
      "text/plain": [
       "(8703, 24)"
      ]
     },
     "execution_count": 6,
     "metadata": {},
     "output_type": "execute_result"
    }
   ],
   "source": [
    "#remove the rows that are completely missing, if any\n",
    "\n",
    "attack_clean=attack_clean.dropna(how='all', axis=0) #axis=0 es filas\n",
    "attack_clean.shape"
   ]
  },
  {
   "cell_type": "code",
   "execution_count": 7,
   "metadata": {},
   "outputs": [],
   "source": [
    "#remove the columns that are completely missing, if any\n",
    "#attack_clean=attack_clean.dropna(how='all', axis=1) NOT WORKING\n",
    "\n",
    "attack_clean.drop(columns = [\"Unnamed: 22\", \"Unnamed: 23\"], inplace=True)"
   ]
  },
  {
   "cell_type": "code",
   "execution_count": 8,
   "metadata": {},
   "outputs": [
    {
     "data": {
      "text/plain": [
       "(8703, 22)"
      ]
     },
     "execution_count": 8,
     "metadata": {},
     "output_type": "execute_result"
    }
   ],
   "source": [
    "attack_clean.shape #we keep 8703 rowns and 22 columns with some data"
   ]
  },
  {
   "cell_type": "code",
   "execution_count": 9,
   "metadata": {},
   "outputs": [
    {
     "data": {
      "text/plain": [
       "2392"
      ]
     },
     "execution_count": 9,
     "metadata": {},
     "output_type": "execute_result"
    }
   ],
   "source": [
    "dupl_rows = attack_clean.duplicated()\n",
    "dupl_rows.sum() #we have duplicated 2392 rows here!\n"
   ]
  },
  {
   "cell_type": "code",
   "execution_count": 10,
   "metadata": {},
   "outputs": [
    {
     "name": "stdout",
     "output_type": "stream",
     "text": [
      "4\n"
     ]
    }
   ],
   "source": [
    "def cleaning(df, threshold=0.1):\n",
    "    columnas=round(len(df.columns)*threshold)\n",
    "    print(columnas)\n",
    "    \n",
    "cleaning(attack_clean, threshold=0.20) #mínimo tiene que haber un 10% de columnas no missing para dropear. En este caso, son 2 columnas"
   ]
  },
  {
   "cell_type": "code",
   "execution_count": 11,
   "metadata": {},
   "outputs": [],
   "source": [
    "attack_clean=attack_clean.dropna(thresh=len(attack_clean.columns)*0.8) #remove rows with over 20% missing data"
   ]
  },
  {
   "cell_type": "code",
   "execution_count": 12,
   "metadata": {},
   "outputs": [
    {
     "data": {
      "text/plain": [
       "(5874, 22)"
      ]
     },
     "execution_count": 12,
     "metadata": {},
     "output_type": "execute_result"
    }
   ],
   "source": [
    "attack_clean.shape #we keep 5874 rows and 22 columns with some data after removing duplicates"
   ]
  },
  {
   "cell_type": "code",
   "execution_count": 13,
   "metadata": {},
   "outputs": [],
   "source": [
    "attack_clean.rename(columns={\"Species \": \"Species\"}, inplace=True) #rename the variable to avoid the last blank space\n",
    "attack_clean.rename(columns={\"Sex \": \"Sex\"}, inplace=True) #rename the variable to avoid the last blank space\n",
    "attack_clean.rename(columns={\"Fatal (Y/N)\": \"Fatal\"}, inplace=True) #rename it with just one word"
   ]
  },
  {
   "cell_type": "code",
   "execution_count": 14,
   "metadata": {},
   "outputs": [
    {
     "data": {
      "text/plain": [
       "2521"
      ]
     },
     "execution_count": 14,
     "metadata": {},
     "output_type": "execute_result"
    }
   ],
   "source": [
    "attack_clean['Age'] = pd.to_numeric(attack_clean['Age'], errors='coerce') #now we can get the age as numeric. Errors will result in missing\n",
    "attack_clean.Age.describe()\n",
    "attack_clean.Age.isna().sum() #we have 971 missing values in the variable #we have too many missing, so we are going to drop them, when we use this variable in subsets"
   ]
  },
  {
   "cell_type": "code",
   "execution_count": 15,
   "metadata": {},
   "outputs": [
    {
     "data": {
      "text/plain": [
       "array([57., 11., 48., nan, 18., 52., 15., 12., 32., 10., 21., 34., 30.,\n",
       "       60., 33., 29., 54., 41., 37., 56., 19., 25., 69., 38., 55., 35.,\n",
       "       46., 45., 14., 28., 20., 24., 26., 49., 22.,  7., 31., 17., 40.,\n",
       "       13., 42.,  3.,  8., 50., 16., 82., 73., 68., 51., 39., 58., 47.,\n",
       "       61., 65., 36., 66., 43.,  9., 72., 59.,  6., 27., 64., 23., 71.,\n",
       "       44., 62., 63., 70., 53., 77., 74.,  5., 86., 84., 75., 87., 67.,\n",
       "        1., 81., 78.])"
      ]
     },
     "execution_count": 15,
     "metadata": {},
     "output_type": "execute_result"
    }
   ],
   "source": [
    "attack_clean.Age.unique()"
   ]
  },
  {
   "cell_type": "code",
   "execution_count": 16,
   "metadata": {},
   "outputs": [
    {
     "name": "stdout",
     "output_type": "stream",
     "text": [
      "<class 'pandas.core.frame.DataFrame'>\n",
      "Index: 5874 entries, 0 to 6301\n",
      "Data columns (total 22 columns):\n",
      " #   Column                  Non-Null Count  Dtype  \n",
      "---  ------                  --------------  -----  \n",
      " 0   Case Number             5873 non-null   object \n",
      " 1   Date                    5874 non-null   object \n",
      " 2   Year                    5872 non-null   float64\n",
      " 3   Type                    5873 non-null   object \n",
      " 4   Country                 5864 non-null   object \n",
      " 5   Area                    5634 non-null   object \n",
      " 6   Location                5560 non-null   object \n",
      " 7   Activity                5525 non-null   object \n",
      " 8   Name                    5812 non-null   object \n",
      " 9   Sex                     5537 non-null   object \n",
      " 10  Age                     3353 non-null   float64\n",
      " 11  Injury                  5866 non-null   object \n",
      " 12  Fatal                   5431 non-null   object \n",
      " 13  Time                    2932 non-null   object \n",
      " 14  Species                 3352 non-null   object \n",
      " 15  Investigator or Source  5861 non-null   object \n",
      " 16  pdf                     5874 non-null   object \n",
      " 17  href formula            5873 non-null   object \n",
      " 18  href                    5874 non-null   object \n",
      " 19  Case Number.1           5874 non-null   object \n",
      " 20  Case Number.2           5874 non-null   object \n",
      " 21  original order          5874 non-null   float64\n",
      "dtypes: float64(3), object(19)\n",
      "memory usage: 1.0+ MB\n"
     ]
    }
   ],
   "source": [
    "attack_clean.info()"
   ]
  },
  {
   "cell_type": "code",
   "execution_count": 17,
   "metadata": {},
   "outputs": [],
   "source": [
    "#let's pass the float age to integer age, as it makes no sense to have it with decimals\n",
    "#attack_clean['Year'] = attack_clean['Year'].astype(int)"
   ]
  },
  {
   "cell_type": "code",
   "execution_count": 18,
   "metadata": {},
   "outputs": [],
   "source": [
    "attack_clean.Year.unique()\n",
    "attack_clean = attack_clean.dropna(subset=['Year']) #drop the missing values of the variable Year"
   ]
  },
  {
   "cell_type": "code",
   "execution_count": 19,
   "metadata": {},
   "outputs": [
    {
     "data": {
      "text/plain": [
       "(5872, 22)"
      ]
     },
     "execution_count": 19,
     "metadata": {},
     "output_type": "execute_result"
    }
   ],
   "source": [
    "attack_clean.shape"
   ]
  },
  {
   "cell_type": "code",
   "execution_count": 20,
   "metadata": {},
   "outputs": [
    {
     "data": {
      "text/plain": [
       "array(['F', 'M', nan, 'M ', 'lli', 'N', '.'], dtype=object)"
      ]
     },
     "execution_count": 20,
     "metadata": {},
     "output_type": "execute_result"
    }
   ],
   "source": [
    "#clean the variable sex\n",
    "\n",
    "attack_clean.Sex.unique()"
   ]
  },
  {
   "cell_type": "code",
   "execution_count": 21,
   "metadata": {},
   "outputs": [],
   "source": [
    "attack_clean = attack_clean.drop(attack_clean[attack_clean['Sex'] == 'lli'].index)"
   ]
  },
  {
   "cell_type": "code",
   "execution_count": 22,
   "metadata": {},
   "outputs": [],
   "source": [
    "attack_clean['Sex'] = attack_clean['Sex'].replace({'.': np.nan})"
   ]
  },
  {
   "cell_type": "code",
   "execution_count": 23,
   "metadata": {},
   "outputs": [
    {
     "data": {
      "text/plain": [
       "338"
      ]
     },
     "execution_count": 23,
     "metadata": {},
     "output_type": "execute_result"
    }
   ],
   "source": [
    "attack_clean.Sex.isna().sum()"
   ]
  },
  {
   "cell_type": "code",
   "execution_count": 24,
   "metadata": {},
   "outputs": [],
   "source": [
    "attack_clean = attack_clean.dropna(subset=['Sex']) #drop the missing values of the variable sex"
   ]
  },
  {
   "cell_type": "code",
   "execution_count": 25,
   "metadata": {},
   "outputs": [],
   "source": [
    "attack_clean['Sex'] = attack_clean['Sex'].str.replace('M ', 'M')\n",
    "attack_clean['Sex'] = attack_clean['Sex'].str.replace('N', 'M')\n",
    "attack_clean = attack_clean.drop(attack_clean[attack_clean['Sex'] == 'lli'].index)"
   ]
  },
  {
   "cell_type": "code",
   "execution_count": 26,
   "metadata": {},
   "outputs": [],
   "source": [
    "#cleaning the countries, setting the names to title style. \n",
    "attack_clean[\"Country\"]= attack_clean[\"Country\"].str.title()\n",
    "attack_clean['Country'] = attack_clean['Country'].str.replace('Usa', 'USA')"
   ]
  },
  {
   "cell_type": "code",
   "execution_count": 27,
   "metadata": {},
   "outputs": [
    {
     "name": "stdout",
     "output_type": "stream",
     "text": [
      "<class 'pandas.core.frame.DataFrame'>\n",
      "Index: 5533 entries, 0 to 6301\n",
      "Data columns (total 22 columns):\n",
      " #   Column                  Non-Null Count  Dtype  \n",
      "---  ------                  --------------  -----  \n",
      " 0   Case Number             5532 non-null   object \n",
      " 1   Date                    5533 non-null   object \n",
      " 2   Year                    5533 non-null   float64\n",
      " 3   Type                    5532 non-null   object \n",
      " 4   Country                 5523 non-null   object \n",
      " 5   Area                    5300 non-null   object \n",
      " 6   Location                5226 non-null   object \n",
      " 7   Activity                5215 non-null   object \n",
      " 8   Name                    5492 non-null   object \n",
      " 9   Sex                     5533 non-null   object \n",
      " 10  Age                     3324 non-null   float64\n",
      " 11  Injury                  5526 non-null   object \n",
      " 12  Fatal                   5112 non-null   object \n",
      " 13  Time                    2836 non-null   object \n",
      " 14  Species                 3106 non-null   object \n",
      " 15  Investigator or Source  5520 non-null   object \n",
      " 16  pdf                     5533 non-null   object \n",
      " 17  href formula            5532 non-null   object \n",
      " 18  href                    5533 non-null   object \n",
      " 19  Case Number.1           5533 non-null   object \n",
      " 20  Case Number.2           5533 non-null   object \n",
      " 21  original order          5533 non-null   float64\n",
      "dtypes: float64(3), object(19)\n",
      "memory usage: 994.2+ KB\n"
     ]
    }
   ],
   "source": [
    "attack_clean.sample() \n",
    "attack_clean.reset_index(drop=True)\n",
    "attack_clean.info()#it looks good now! we can do more later, but now we have a fairly clean database to start subsetting"
   ]
  },
  {
   "cell_type": "code",
   "execution_count": 28,
   "metadata": {},
   "outputs": [],
   "source": [
    "attack_clean.to_excel(\"datasets/sa_attack_clean.xlsx\")"
   ]
  },
  {
   "cell_type": "markdown",
   "metadata": {},
   "source": [
    "##LET'S START WITH THE HIPOTHESIS!"
   ]
  },
  {
   "cell_type": "markdown",
   "metadata": {},
   "source": [
    "Hipothesis 1: ¿Cómo se distribuyen los tiburones? ¿Son viajeros? Preferencias de país? Oceanía todos los criminales de UK…"
   ]
  },
  {
   "cell_type": "code",
   "execution_count": 29,
   "metadata": {},
   "outputs": [],
   "source": [
    "#hipothesis 1: \n",
    "hip1=attack_clean.copy()\n"
   ]
  },
  {
   "cell_type": "code",
   "execution_count": 30,
   "metadata": {},
   "outputs": [
    {
     "name": "stdout",
     "output_type": "stream",
     "text": [
      "<class 'pandas.core.frame.DataFrame'>\n",
      "Index: 5533 entries, 0 to 6301\n",
      "Data columns (total 8 columns):\n",
      " #   Column     Non-Null Count  Dtype  \n",
      "---  ------     --------------  -----  \n",
      " 0   Year       5533 non-null   float64\n",
      " 1   Name       5492 non-null   object \n",
      " 2   Age        3324 non-null   float64\n",
      " 3   Sex        5533 non-null   object \n",
      " 4   Country    5523 non-null   object \n",
      " 5   Species    3106 non-null   object \n",
      " 6   Fatal      5112 non-null   object \n",
      " 7   n_attacks  5533 non-null   int64  \n",
      "dtypes: float64(2), int64(1), object(5)\n",
      "memory usage: 389.0+ KB\n"
     ]
    }
   ],
   "source": [
    "hip1=hip1.loc[:, ['Year', 'Name','Age','Sex','Country', 'Species','Fatal']]\n",
    "hip1[\"n_attacks\"]=1 #we create a variable that counts the number of attacks per case (row),so always 1\n",
    "hip1.info()\n",
    "hip1.dropna (inplace=True)"
   ]
  },
  {
   "cell_type": "code",
   "execution_count": 31,
   "metadata": {},
   "outputs": [],
   "source": [
    "#let's clean the variable age!\n",
    "hip1 = hip1.dropna(subset=['Age']) #drop the missing values of the variable Age\n",
    "hip1 = hip1.dropna(subset=['Country']) #drop the missing values of the variable Country"
   ]
  },
  {
   "cell_type": "code",
   "execution_count": 32,
   "metadata": {},
   "outputs": [
    {
     "name": "stdout",
     "output_type": "stream",
     "text": [
      "<class 'pandas.core.frame.DataFrame'>\n",
      "Index: 1916 entries, 0 to 6276\n",
      "Data columns (total 8 columns):\n",
      " #   Column     Non-Null Count  Dtype  \n",
      "---  ------     --------------  -----  \n",
      " 0   Year       1916 non-null   float64\n",
      " 1   Name       1916 non-null   object \n",
      " 2   Age        1916 non-null   float64\n",
      " 3   Sex        1916 non-null   object \n",
      " 4   Country    1916 non-null   object \n",
      " 5   Species    1916 non-null   object \n",
      " 6   Fatal      1916 non-null   object \n",
      " 7   n_attacks  1916 non-null   int64  \n",
      "dtypes: float64(2), int64(1), object(5)\n",
      "memory usage: 134.7+ KB\n"
     ]
    }
   ],
   "source": [
    "hip1.info()"
   ]
  },
  {
   "cell_type": "code",
   "execution_count": 33,
   "metadata": {},
   "outputs": [
    {
     "data": {
      "text/plain": [
       "90"
      ]
     },
     "execution_count": 33,
     "metadata": {},
     "output_type": "execute_result"
    }
   ],
   "source": [
    "hip1.Country.nunique() #there are too many names, so we have to create categories (continents?)\n"
   ]
  },
  {
   "cell_type": "code",
   "execution_count": 34,
   "metadata": {},
   "outputs": [],
   "source": [
    "from sources.funciones import continente\n"
   ]
  },
  {
   "cell_type": "code",
   "execution_count": 35,
   "metadata": {},
   "outputs": [],
   "source": [
    "hip1['Continente'] = hip1['Country'].apply(lambda x: continente(x))"
   ]
  },
  {
   "cell_type": "code",
   "execution_count": 36,
   "metadata": {},
   "outputs": [
    {
     "data": {
      "text/plain": [
       "array(['USA', 'Brazil', 'Australia', 'England', 'Costa Rica', 'Maldives',\n",
       "       'South Africa', 'Thailand', 'Bahamas', 'Ecuador', 'Malaysia',\n",
       "       'Cuba', 'Spain', 'Egypt', 'Mexico', 'Reunion', 'United Kingdom',\n",
       "       'Philippines', 'Indonesia', 'Columbia', 'New Zealand',\n",
       "       'French Polynesia', 'New Caledonia', 'St. Martin', 'France',\n",
       "       'Jamaica', 'Tonga', 'Scotland', 'Italy', 'Taiwan',\n",
       "       'Papua New Guinea', 'Russia', 'Seychelles', 'Turks & Caicos',\n",
       "       'Malta', 'Vietnam', 'Mozambique', 'Guam', 'Croatia', 'Norway',\n",
       "       'Fiji', 'St. Maartin', 'Grand Cayman', 'China', 'Vanuatu',\n",
       "       'South Korea', 'Japan', 'Uruguay', 'Venezuela', 'India', 'Canada',\n",
       "       'Okinawa', 'Tanzania', ' Tonga', 'Marshall Islands', 'Mauritius',\n",
       "       'Senegal', 'Hong Kong', 'Chile', 'Kenya', 'North Atlantic Ocean',\n",
       "       'Portugal', 'South China Sea', 'Bermuda', 'Israel',\n",
       "       'Western Samoa', 'British Isles', 'Micronesia', 'Palau',\n",
       "       'New Britain', 'New Guinea', 'Panama', 'Solomon Islands',\n",
       "       'Federated States Of Micronesia', 'Greece', 'British West Indies',\n",
       "       'Madagascar', 'Mid Atlantic Ocean', 'North Pacific Ocean',\n",
       "       'North Sea', 'American Samoa', 'Andaman / Nicobar Islandas',\n",
       "       'Pacific Ocean', 'Argentina', 'El Salvador', 'Iran', 'Iraq',\n",
       "       'South Atlantic Ocean', 'Trinidad & Tobago', 'Belize'],\n",
       "      dtype=object)"
      ]
     },
     "execution_count": 36,
     "metadata": {},
     "output_type": "execute_result"
    }
   ],
   "source": [
    "hip1.Country.unique()"
   ]
  },
  {
   "cell_type": "code",
   "execution_count": 37,
   "metadata": {},
   "outputs": [
    {
     "data": {
      "text/html": [
       "<div>\n",
       "<style scoped>\n",
       "    .dataframe tbody tr th:only-of-type {\n",
       "        vertical-align: middle;\n",
       "    }\n",
       "\n",
       "    .dataframe tbody tr th {\n",
       "        vertical-align: top;\n",
       "    }\n",
       "\n",
       "    .dataframe thead th {\n",
       "        text-align: right;\n",
       "    }\n",
       "</style>\n",
       "<table border=\"1\" class=\"dataframe\">\n",
       "  <thead>\n",
       "    <tr style=\"text-align: right;\">\n",
       "      <th></th>\n",
       "      <th>Year</th>\n",
       "      <th>Name</th>\n",
       "      <th>Age</th>\n",
       "      <th>Sex</th>\n",
       "      <th>Country</th>\n",
       "      <th>Species</th>\n",
       "      <th>Fatal</th>\n",
       "      <th>n_attacks</th>\n",
       "      <th>Continente</th>\n",
       "    </tr>\n",
       "  </thead>\n",
       "  <tbody>\n",
       "    <tr>\n",
       "      <th>1379</th>\n",
       "      <td>2007.0</td>\n",
       "      <td>Jennifer Manis</td>\n",
       "      <td>21.0</td>\n",
       "      <td>F</td>\n",
       "      <td>USA</td>\n",
       "      <td>4' to 5' shark</td>\n",
       "      <td>N</td>\n",
       "      <td>1</td>\n",
       "      <td>America</td>\n",
       "    </tr>\n",
       "    <tr>\n",
       "      <th>1383</th>\n",
       "      <td>2007.0</td>\n",
       "      <td>Hans Pruss</td>\n",
       "      <td>68.0</td>\n",
       "      <td>M</td>\n",
       "      <td>USA</td>\n",
       "      <td>6' to 8' shark</td>\n",
       "      <td>N</td>\n",
       "      <td>1</td>\n",
       "      <td>America</td>\n",
       "    </tr>\n",
       "    <tr>\n",
       "      <th>2380</th>\n",
       "      <td>1995.0</td>\n",
       "      <td>Paul Lucas</td>\n",
       "      <td>45.0</td>\n",
       "      <td>M</td>\n",
       "      <td>USA</td>\n",
       "      <td>1.8 m [6'] shark</td>\n",
       "      <td>N</td>\n",
       "      <td>1</td>\n",
       "      <td>America</td>\n",
       "    </tr>\n",
       "  </tbody>\n",
       "</table>\n",
       "</div>"
      ],
      "text/plain": [
       "        Year            Name   Age Sex Country           Species Fatal  \\\n",
       "1379  2007.0  Jennifer Manis  21.0   F     USA    4' to 5' shark     N   \n",
       "1383  2007.0      Hans Pruss  68.0   M     USA    6' to 8' shark     N   \n",
       "2380  1995.0      Paul Lucas  45.0   M     USA  1.8 m [6'] shark     N   \n",
       "\n",
       "      n_attacks Continente  \n",
       "1379          1    America  \n",
       "1383          1    America  \n",
       "2380          1    America  "
      ]
     },
     "execution_count": 37,
     "metadata": {},
     "output_type": "execute_result"
    }
   ],
   "source": [
    "hip1.sample(3)"
   ]
  },
  {
   "cell_type": "code",
   "execution_count": 38,
   "metadata": {},
   "outputs": [],
   "source": [
    "hip1.reset_index()\n",
    "hip1=hip1.sort_values(by=\"Continente\", ascending=True)"
   ]
  },
  {
   "cell_type": "code",
   "execution_count": 39,
   "metadata": {},
   "outputs": [
    {
     "data": {
      "text/plain": [
       "Continente\n",
       "America    954\n",
       "Oceania    514\n",
       "Africa     299\n",
       "Other       83\n",
       "Europe      41\n",
       "Asia        25\n",
       "Name: count, dtype: int64"
      ]
     },
     "execution_count": 39,
     "metadata": {},
     "output_type": "execute_result"
    }
   ],
   "source": [
    "hip1.Continente.value_counts()"
   ]
  },
  {
   "cell_type": "code",
   "execution_count": 40,
   "metadata": {},
   "outputs": [
    {
     "name": "stderr",
     "output_type": "stream",
     "text": [
      "C:\\Users\\Aida\\AppData\\Local\\Temp\\ipykernel_1876\\3146922520.py:1: FutureWarning: \n",
      "\n",
      "The `ci` parameter is deprecated. Use `errorbar=None` for the same effect.\n",
      "\n",
      "  graph1a=sns.barplot(x=hip1[\"Continente\"], y=hip1[\"n_attacks\"], palette=\"magma\", estimator=sum, ci=None)\n",
      "C:\\Users\\Aida\\AppData\\Local\\Temp\\ipykernel_1876\\3146922520.py:1: FutureWarning: \n",
      "\n",
      "Passing `palette` without assigning `hue` is deprecated and will be removed in v0.14.0. Assign the `x` variable to `hue` and set `legend=False` for the same effect.\n",
      "\n",
      "  graph1a=sns.barplot(x=hip1[\"Continente\"], y=hip1[\"n_attacks\"], palette=\"magma\", estimator=sum, ci=None)\n"
     ]
    },
    {
     "data": {
      "image/png": "[encoded data removed]",
      "text/plain": [
       "<Figure size 640x480 with 1 Axes>"
      ]
     },
     "metadata": {},
     "output_type": "display_data"
    }
   ],
   "source": [
    "graph1a=sns.barplot(x=hip1[\"Continente\"], y=hip1[\"n_attacks\"], palette=\"magma\", estimator=sum, ci=None)\n",
    "graph1a.tick_params(axis='x', labelrotation=45)\n",
    "graph1a.set_title('Sharks world tour: where did they attack?', weight=\"bold\", size=15)\n",
    "graph1a.set_xlabel('Continents', fontsize=12)\n",
    "graph1a.set_ylabel('How many attacks?', fontsize=12)\n",
    "sns.set_style(\"darkgrid\")\n",
    "\n",
    "\n",
    "for i in graph1a.containers:\n",
    "    graph1a.bar_label(i,);"
   ]
  },
  {
   "cell_type": "code",
   "execution_count": 41,
   "metadata": {},
   "outputs": [
    {
     "data": {
      "text/html": [
       "<div>\n",
       "<style scoped>\n",
       "    .dataframe tbody tr th:only-of-type {\n",
       "        vertical-align: middle;\n",
       "    }\n",
       "\n",
       "    .dataframe tbody tr th {\n",
       "        vertical-align: top;\n",
       "    }\n",
       "\n",
       "    .dataframe thead th {\n",
       "        text-align: right;\n",
       "    }\n",
       "</style>\n",
       "<table border=\"1\" class=\"dataframe\">\n",
       "  <thead>\n",
       "    <tr style=\"text-align: right;\">\n",
       "      <th></th>\n",
       "      <th>Sex</th>\n",
       "    </tr>\n",
       "    <tr>\n",
       "      <th>Continente</th>\n",
       "      <th></th>\n",
       "    </tr>\n",
       "  </thead>\n",
       "  <tbody>\n",
       "    <tr>\n",
       "      <th>Africa</th>\n",
       "      <td>299</td>\n",
       "    </tr>\n",
       "    <tr>\n",
       "      <th>America</th>\n",
       "      <td>954</td>\n",
       "    </tr>\n",
       "    <tr>\n",
       "      <th>Asia</th>\n",
       "      <td>25</td>\n",
       "    </tr>\n",
       "    <tr>\n",
       "      <th>Europe</th>\n",
       "      <td>41</td>\n",
       "    </tr>\n",
       "    <tr>\n",
       "      <th>Oceania</th>\n",
       "      <td>514</td>\n",
       "    </tr>\n",
       "    <tr>\n",
       "      <th>Other</th>\n",
       "      <td>83</td>\n",
       "    </tr>\n",
       "  </tbody>\n",
       "</table>\n",
       "</div>"
      ],
      "text/plain": [
       "            Sex\n",
       "Continente     \n",
       "Africa      299\n",
       "America     954\n",
       "Asia         25\n",
       "Europe       41\n",
       "Oceania     514\n",
       "Other        83"
      ]
     },
     "execution_count": 41,
     "metadata": {},
     "output_type": "execute_result"
    }
   ],
   "source": [
    "hip1[[\"Continente\",\"Sex\"]].groupby(\"Continente\").count()\n"
   ]
  },
  {
   "cell_type": "code",
   "execution_count": 42,
   "metadata": {},
   "outputs": [
    {
     "data": {
      "image/png": "[encoded data removed]",
      "text/plain": [
       "<Figure size 640x480 with 1 Axes>"
      ]
     },
     "metadata": {},
     "output_type": "display_data"
    }
   ],
   "source": [
    "#check the attacks by country, split by sex\n",
    "graph1b=sns.countplot(x=hip1[\"Continente\"], hue=hip1[\"Sex\"], palette=\"tab10\")\n",
    "graph1b.tick_params(axis='x', labelrotation=80)\n",
    "plt.legend(title='Sex', loc='upper right', labels=['Female', 'Male'])\n",
    "graph1b.set_title('Attacks by location and Gender', weight=\"bold\", size=15, color=\"Orange\")\n",
    "graph1b.set_xlabel('Continents', fontsize=12)\n",
    "graph1b.set_ylabel('Attacks', fontsize=11)\n",
    "sns.set_style(\"whitegrid\");"
   ]
  },
  {
   "cell_type": "code",
   "execution_count": 43,
   "metadata": {},
   "outputs": [],
   "source": [
    "hip1.to_excel(\"datasets/sa_hip1.xlsx\")"
   ]
  },
  {
   "cell_type": "markdown",
   "metadata": {},
   "source": [
    "Hipothesis 2: a los tiburones les gustan mayores...número de ataques de tiburones por edad \n",
    "¿Hay alguna relación entre ataques y sexo también dentro de los grupos de edad?\n"
   ]
  },
  {
   "cell_type": "markdown",
   "metadata": {},
   "source": []
  },
  {
   "cell_type": "code",
   "execution_count": 44,
   "metadata": {},
   "outputs": [],
   "source": [
    "hip2=hip1.copy()"
   ]
  },
  {
   "cell_type": "code",
   "execution_count": 45,
   "metadata": {},
   "outputs": [
    {
     "data": {
      "text/plain": [
       "84.0"
      ]
     },
     "execution_count": 45,
     "metadata": {},
     "output_type": "execute_result"
    }
   ],
   "source": [
    "hip2.Age.unique() #values seem reasonable, so ok\n",
    "hip2.Age.min()\n",
    "hip2.Age.max()"
   ]
  },
  {
   "cell_type": "code",
   "execution_count": 46,
   "metadata": {},
   "outputs": [],
   "source": [
    "from sources.funciones import grupedad "
   ]
  },
  {
   "cell_type": "code",
   "execution_count": 47,
   "metadata": {},
   "outputs": [],
   "source": [
    "hip2['Grupedad'] = hip2['Age'].apply(lambda x: grupedad(x))"
   ]
  },
  {
   "cell_type": "code",
   "execution_count": 48,
   "metadata": {},
   "outputs": [
    {
     "name": "stderr",
     "output_type": "stream",
     "text": [
      "C:\\Users\\Aida\\AppData\\Local\\Temp\\ipykernel_1876\\781706097.py:1: FutureWarning: \n",
      "\n",
      "Passing `palette` without assigning `hue` is deprecated and will be removed in v0.14.0. Assign the `y` variable to `hue` and set `legend=False` for the same effect.\n",
      "\n",
      "  graph2a=sns.boxplot(x=hip2[\"Age\"], palette=\"magma\")\n"
     ]
    },
    {
     "data": {
      "text/plain": [
       "''"
      ]
     },
     "execution_count": 48,
     "metadata": {},
     "output_type": "execute_result"
    },
    {
     "data": {
      "image/png": "[encoded data removed]",
      "text/plain": [
       "<Figure size 640x480 with 1 Axes>"
      ]
     },
     "metadata": {},
     "output_type": "display_data"
    }
   ],
   "source": [
    "graph2a=sns.boxplot(x=hip2[\"Age\"], palette=\"magma\")\n",
    "graph2a.set(xlabel=\"Age of victims\")\n",
    "plt.title(\"Do sharks like them old? \", weight=\"bold\", size=15, color=\"Green\")\n",
    "sns.set_style(\"white\")\n",
    ";"
   ]
  },
  {
   "cell_type": "code",
   "execution_count": 49,
   "metadata": {},
   "outputs": [],
   "source": [
    "from sources.funciones import grupedad_cat"
   ]
  },
  {
   "cell_type": "code",
   "execution_count": 50,
   "metadata": {},
   "outputs": [],
   "source": [
    "hip2['Grupedad_cat'] = hip2['Age'].apply(lambda x: grupedad_cat(x))"
   ]
  },
  {
   "cell_type": "code",
   "execution_count": 51,
   "metadata": {},
   "outputs": [
    {
     "data": {
      "image/png": "[encoded data removed]",
      "text/plain": [
       "<Figure size 640x480 with 1 Axes>"
      ]
     },
     "metadata": {},
     "output_type": "display_data"
    }
   ],
   "source": [
    "graph2b=sns.countplot(x=hip2[\"Grupedad_cat\"], hue=hip2[\"Sex\"], palette=\"Set2\")\n",
    "plt.title(\"Number of attacks per age and sex\", weight=\"bold\", size=15)\n",
    "graph2b.tick_params(colors='black', grid_color='orange', grid_alpha=0.3)\n",
    "plt.legend(title='Sex', loc='best', labels=['Female', 'Male'])\n",
    "graph2b.set_xlabel('Victim', fontsize=12)\n",
    "graph2b.set_ylabel('Attacks', fontsize=12)\n",
    "plt.xticks(fontsize=8)\n",
    "plt.yticks(fontsize=8)\n",
    "\n",
    "for i in graph2b.containers:\n",
    "    graph2b.bar_label(i,);\n"
   ]
  },
  {
   "cell_type": "code",
   "execution_count": 52,
   "metadata": {},
   "outputs": [],
   "source": [
    "\n",
    "hip2['Fatal'] = hip2['Fatal'].str.replace('M', 'N')\n",
    "hip2['Fatal'] = hip2['Fatal'].str.replace(' N', 'N')\n",
    "hip2['Fatal'] = hip2['Fatal'].str.replace('2017', 'Y')\n",
    "hip2['Fatal'] = hip2['Fatal'].replace({'UNKNOWN': np.nan})\n",
    "hip2 = hip2.dropna(subset=['Fatal']) #drop the missing values of the variable Fatal\n"
   ]
  },
  {
   "cell_type": "code",
   "execution_count": 53,
   "metadata": {},
   "outputs": [
    {
     "data": {
      "text/plain": [
       "array(['N', 'Y'], dtype=object)"
      ]
     },
     "execution_count": 53,
     "metadata": {},
     "output_type": "execute_result"
    }
   ],
   "source": [
    "hip2.Fatal.unique()"
   ]
  },
  {
   "cell_type": "code",
   "execution_count": 54,
   "metadata": {},
   "outputs": [
    {
     "data": {
      "text/plain": [
       "Fatal\n",
       "N    1621\n",
       "Y     294\n",
       "Name: count, dtype: int64"
      ]
     },
     "execution_count": 54,
     "metadata": {},
     "output_type": "execute_result"
    }
   ],
   "source": [
    "hip2.Fatal.value_counts()"
   ]
  },
  {
   "cell_type": "code",
   "execution_count": 55,
   "metadata": {},
   "outputs": [
    {
     "data": {
      "image/png": "[encoded data removed]",
      "text/plain": [
       "<Figure size 640x480 with 1 Axes>"
      ]
     },
     "metadata": {},
     "output_type": "display_data"
    }
   ],
   "source": [
    "graph2c=sns.histplot(data=hip2, x=\"Age\", hue=\"Fatal\", multiple=\"stack\", color=\"magma\")\n",
    "plt.legend(title='Dead', loc='upper right', labels=['Yes', 'No'])\n",
    "sns.set_style(\"white\")\n",
    "plt.title(\"Number of fatal attacks per age of victim\", weight=\"bold\", size=15)\n",
    "graph2c.tick_params(colors='black', grid_color='orange', grid_alpha=0.3)\n",
    "graph2c.set_xlabel('Victim Age', fontsize=12)\n",
    "graph2c.set_ylabel('Attacks', fontsize=12)\n",
    "plt.xticks(fontsize=8)\n",
    "plt.yticks(fontsize=8);\n",
    "\n"
   ]
  },
  {
   "cell_type": "code",
   "execution_count": 56,
   "metadata": {},
   "outputs": [],
   "source": [
    "hip2.to_excel(\"datasets/sa_hip2.xlsx\")"
   ]
  },
  {
   "cell_type": "markdown",
   "metadata": {},
   "source": [
    "Hipotesis 3\n",
    "hay algún algún nombre que los tiburones prefieran más? es porque son unos provocones?"
   ]
  },
  {
   "cell_type": "code",
   "execution_count": 57,
   "metadata": {},
   "outputs": [],
   "source": [
    "hip3=hip2.copy()\n"
   ]
  },
  {
   "cell_type": "code",
   "execution_count": 58,
   "metadata": {},
   "outputs": [
    {
     "data": {
      "text/plain": [
       "2860                                    Raggedtooth shark\n",
       "2286                                          White shark\n",
       "715                                           Tiger shark\n",
       "3161                             White shark, 3 m [10'] k\n",
       "3168    White shark, 3.5 m [11.5'], species identity c...\n",
       "                              ...                        \n",
       "442                                        Blacktip shark\n",
       "3663                                     1.8 m [6'] shark\n",
       "4008                                     1.2 m [4'] shark\n",
       "3335                     Thought to involve a tiger shark\n",
       "57                                    Tiger shark, female\n",
       "Name: Species, Length: 1915, dtype: object"
      ]
     },
     "execution_count": 58,
     "metadata": {},
     "output_type": "execute_result"
    }
   ],
   "source": [
    "hip3.Species #too many and very disordered!"
   ]
  },
  {
   "cell_type": "code",
   "execution_count": 59,
   "metadata": {},
   "outputs": [
    {
     "name": "stdout",
     "output_type": "stream",
     "text": [
      "<class 'pandas.core.series.Series'>\n",
      "Index: 1915 entries, 2860 to 57\n",
      "Series name: Sharks\n",
      "Non-Null Count  Dtype \n",
      "--------------  ----- \n",
      "1399 non-null   object\n",
      "dtypes: object(1)\n",
      "memory usage: 29.9+ KB\n"
     ]
    }
   ],
   "source": [
    "hip3['Sharks'] = attack_clean['Species'].str.extract(r'(\\w+)\\s+shark')\n",
    "hip3.Sharks.info()"
   ]
  },
  {
   "cell_type": "code",
   "execution_count": 60,
   "metadata": {},
   "outputs": [],
   "source": [
    "hip3.sample()\n",
    "hip3[\"Sharks\"]= hip3[\"Sharks\"].str.title()\n",
    "hip3 = hip3.dropna(subset=['Sharks'])\n",
    "hip3['Sharks']=hip3['Sharks'].str.replace('Nan', 'Other')\n",
    "hip3['Sharks']=hip3['Sharks'].str.replace('M', 'Mako')\n",
    "hip3['Sharks']=hip3['Sharks'].str.replace('2Mako', 'Mako')\n",
    "hip3['Sharks']=hip3['Sharks'].str.replace('3Mako', 'Mako')\n",
    "hip3['Sharks']=hip3['Sharks'].str.replace('Makoako', 'Mako')\n",
    "hip3['Sharks']=hip3['Sharks'].str.replace('Lb', 'Other')\n",
    "hip3['Sharks']=hip3['Sharks'].str.replace('6', 'Other')\n",
    "hip3['Sharks']=hip3['Sharks'].str.replace('Kg', 'Other')\n",
    "hip3['Sharks']=hip3['Sharks'].str.replace('3', 'Other')"
   ]
  },
  {
   "cell_type": "code",
   "execution_count": 61,
   "metadata": {},
   "outputs": [
    {
     "data": {
      "text/plain": [
       "array(['Raggedtooth', 'White', 'Tiger', 'Dusky', 'Bull', 'Copper', 'Mako',\n",
       "       'Whitetip', 'Blacktip', 'Hammerhead', 'Zambesi', 'Makoetre',\n",
       "       'Zambezi', 'Blue', 'Lemon', 'Other', 'Of', 'Small', 'Spinner',\n",
       "       'Nurse', 'Sand', 'Reef', 'Unidentified', 'Young', 'Colored',\n",
       "       'Juvenile', 'Porbeagle', 'Sevengill', 'Galapagos', 'Larger',\n",
       "       'Sandbar', 'For', 'Silky', 'Bonita', 'Carcharhinid', 'Dog',\n",
       "       'Sandtiger', 'Cutter', 'Thresher', 'Dogfish', 'A', 'Foot', 'Brown',\n",
       "       'Angel', 'Bonnethed', 'Smoothhound', 'Wobbegong', 'Whaler', '2',\n",
       "       'Another', 'Cm', 'Whale', 'Nose', 'Grey', 'Cookiecutter', 'Same',\n",
       "       'Carpet', 'Gill', 'Jackson', 'Other0Other', 'Hooked'], dtype=object)"
      ]
     },
     "execution_count": 61,
     "metadata": {},
     "output_type": "execute_result"
    }
   ],
   "source": [
    "hip3.Sharks.unique()"
   ]
  },
  {
   "cell_type": "code",
   "execution_count": 62,
   "metadata": {},
   "outputs": [
    {
     "data": {
      "text/html": [
       "<div>\n",
       "<style scoped>\n",
       "    .dataframe tbody tr th:only-of-type {\n",
       "        vertical-align: middle;\n",
       "    }\n",
       "\n",
       "    .dataframe tbody tr th {\n",
       "        vertical-align: top;\n",
       "    }\n",
       "\n",
       "    .dataframe thead th {\n",
       "        text-align: right;\n",
       "    }\n",
       "</style>\n",
       "<table border=\"1\" class=\"dataframe\">\n",
       "  <thead>\n",
       "    <tr style=\"text-align: right;\">\n",
       "      <th></th>\n",
       "      <th>Year</th>\n",
       "      <th>Name</th>\n",
       "      <th>Age</th>\n",
       "      <th>Sex</th>\n",
       "      <th>Country</th>\n",
       "      <th>Species</th>\n",
       "      <th>Fatal</th>\n",
       "      <th>n_attacks</th>\n",
       "      <th>Continente</th>\n",
       "      <th>Grupedad</th>\n",
       "      <th>Grupedad_cat</th>\n",
       "      <th>Sharks</th>\n",
       "    </tr>\n",
       "  </thead>\n",
       "  <tbody>\n",
       "    <tr>\n",
       "      <th>0</th>\n",
       "      <td>1985.0</td>\n",
       "      <td>Marius Botha</td>\n",
       "      <td>15.0</td>\n",
       "      <td>M</td>\n",
       "      <td>South Africa</td>\n",
       "      <td>Raggedtooth shark</td>\n",
       "      <td>N</td>\n",
       "      <td>1</td>\n",
       "      <td>Africa</td>\n",
       "      <td>0-18</td>\n",
       "      <td>Early Adult</td>\n",
       "      <td>Raggedtooth</td>\n",
       "    </tr>\n",
       "    <tr>\n",
       "      <th>1</th>\n",
       "      <td>1996.0</td>\n",
       "      <td>Gyula Plaganyi</td>\n",
       "      <td>29.0</td>\n",
       "      <td>M</td>\n",
       "      <td>South Africa</td>\n",
       "      <td>White shark</td>\n",
       "      <td>N</td>\n",
       "      <td>1</td>\n",
       "      <td>Africa</td>\n",
       "      <td>19-40</td>\n",
       "      <td>Early Adult</td>\n",
       "      <td>White</td>\n",
       "    </tr>\n",
       "    <tr>\n",
       "      <th>2</th>\n",
       "      <td>2012.0</td>\n",
       "      <td>Liya Sibili</td>\n",
       "      <td>20.0</td>\n",
       "      <td>M</td>\n",
       "      <td>South Africa</td>\n",
       "      <td>Tiger shark</td>\n",
       "      <td>Y</td>\n",
       "      <td>1</td>\n",
       "      <td>Africa</td>\n",
       "      <td>19-40</td>\n",
       "      <td>Early Adult</td>\n",
       "      <td>Tiger</td>\n",
       "    </tr>\n",
       "    <tr>\n",
       "      <th>3</th>\n",
       "      <td>1976.0</td>\n",
       "      <td>Geoffrey Kirkam Spence</td>\n",
       "      <td>19.0</td>\n",
       "      <td>M</td>\n",
       "      <td>South Africa</td>\n",
       "      <td>White shark, 3 m [10'] k</td>\n",
       "      <td>N</td>\n",
       "      <td>1</td>\n",
       "      <td>Africa</td>\n",
       "      <td>19-40</td>\n",
       "      <td>Early Adult</td>\n",
       "      <td>White</td>\n",
       "    </tr>\n",
       "    <tr>\n",
       "      <th>4</th>\n",
       "      <td>1976.0</td>\n",
       "      <td>Marshall Flanagan</td>\n",
       "      <td>20.0</td>\n",
       "      <td>M</td>\n",
       "      <td>South Africa</td>\n",
       "      <td>White shark, 3.5 m [11.5'], species identity c...</td>\n",
       "      <td>N</td>\n",
       "      <td>1</td>\n",
       "      <td>Africa</td>\n",
       "      <td>19-40</td>\n",
       "      <td>Early Adult</td>\n",
       "      <td>White</td>\n",
       "    </tr>\n",
       "    <tr>\n",
       "      <th>...</th>\n",
       "      <td>...</td>\n",
       "      <td>...</td>\n",
       "      <td>...</td>\n",
       "      <td>...</td>\n",
       "      <td>...</td>\n",
       "      <td>...</td>\n",
       "      <td>...</td>\n",
       "      <td>...</td>\n",
       "      <td>...</td>\n",
       "      <td>...</td>\n",
       "      <td>...</td>\n",
       "      <td>...</td>\n",
       "    </tr>\n",
       "    <tr>\n",
       "      <th>1394</th>\n",
       "      <td>1999.0</td>\n",
       "      <td>Sylvia Lanner</td>\n",
       "      <td>41.0</td>\n",
       "      <td>F</td>\n",
       "      <td>Mauritius</td>\n",
       "      <td>Grey reef shark, 1.5 m</td>\n",
       "      <td>N</td>\n",
       "      <td>1</td>\n",
       "      <td>Other</td>\n",
       "      <td>41-60</td>\n",
       "      <td>Adult</td>\n",
       "      <td>Reef</td>\n",
       "    </tr>\n",
       "    <tr>\n",
       "      <th>1395</th>\n",
       "      <td>2011.0</td>\n",
       "      <td>Adam 'Biff' D'Esposito</td>\n",
       "      <td>32.0</td>\n",
       "      <td>M</td>\n",
       "      <td>French Polynesia</td>\n",
       "      <td>Grey reef shark</td>\n",
       "      <td>N</td>\n",
       "      <td>1</td>\n",
       "      <td>Other</td>\n",
       "      <td>19-40</td>\n",
       "      <td>Adult</td>\n",
       "      <td>Reef</td>\n",
       "    </tr>\n",
       "    <tr>\n",
       "      <th>1396</th>\n",
       "      <td>2015.0</td>\n",
       "      <td>male</td>\n",
       "      <td>9.0</td>\n",
       "      <td>M</td>\n",
       "      <td>French Polynesia</td>\n",
       "      <td>Blacktip shark</td>\n",
       "      <td>N</td>\n",
       "      <td>1</td>\n",
       "      <td>Other</td>\n",
       "      <td>0-18</td>\n",
       "      <td>Child</td>\n",
       "      <td>Blacktip</td>\n",
       "    </tr>\n",
       "    <tr>\n",
       "      <th>1397</th>\n",
       "      <td>1972.0</td>\n",
       "      <td>Alan Banner,  Peace Corps volunteer</td>\n",
       "      <td>25.0</td>\n",
       "      <td>M</td>\n",
       "      <td>Western Samoa</td>\n",
       "      <td>Thought to involve a tiger shark</td>\n",
       "      <td>Y</td>\n",
       "      <td>1</td>\n",
       "      <td>Other</td>\n",
       "      <td>19-40</td>\n",
       "      <td>Early Adult</td>\n",
       "      <td>Tiger</td>\n",
       "    </tr>\n",
       "    <tr>\n",
       "      <th>1398</th>\n",
       "      <td>2017.0</td>\n",
       "      <td>__ Jimenez</td>\n",
       "      <td>26.0</td>\n",
       "      <td>M</td>\n",
       "      <td>Costa Rica</td>\n",
       "      <td>Tiger shark, female</td>\n",
       "      <td>N</td>\n",
       "      <td>1</td>\n",
       "      <td>Other</td>\n",
       "      <td>19-40</td>\n",
       "      <td>Early Adult</td>\n",
       "      <td>Tiger</td>\n",
       "    </tr>\n",
       "  </tbody>\n",
       "</table>\n",
       "<p>1399 rows × 12 columns</p>\n",
       "</div>"
      ],
      "text/plain": [
       "        Year                                 Name   Age Sex           Country  \\\n",
       "0     1985.0                         Marius Botha  15.0   M      South Africa   \n",
       "1     1996.0                       Gyula Plaganyi  29.0   M      South Africa   \n",
       "2     2012.0                          Liya Sibili  20.0   M      South Africa   \n",
       "3     1976.0               Geoffrey Kirkam Spence  19.0   M      South Africa   \n",
       "4     1976.0                    Marshall Flanagan  20.0   M      South Africa   \n",
       "...      ...                                  ...   ...  ..               ...   \n",
       "1394  1999.0                        Sylvia Lanner  41.0   F         Mauritius   \n",
       "1395  2011.0               Adam 'Biff' D'Esposito  32.0   M  French Polynesia   \n",
       "1396  2015.0                                 male   9.0   M  French Polynesia   \n",
       "1397  1972.0  Alan Banner,  Peace Corps volunteer  25.0   M     Western Samoa   \n",
       "1398  2017.0                           __ Jimenez  26.0   M        Costa Rica   \n",
       "\n",
       "                                                Species Fatal  n_attacks  \\\n",
       "0                                     Raggedtooth shark     N          1   \n",
       "1                                           White shark     N          1   \n",
       "2                                           Tiger shark     Y          1   \n",
       "3                              White shark, 3 m [10'] k     N          1   \n",
       "4     White shark, 3.5 m [11.5'], species identity c...     N          1   \n",
       "...                                                 ...   ...        ...   \n",
       "1394                            Grey reef shark, 1.5 m      N          1   \n",
       "1395                                   Grey reef shark      N          1   \n",
       "1396                                     Blacktip shark     N          1   \n",
       "1397                   Thought to involve a tiger shark     Y          1   \n",
       "1398                                Tiger shark, female     N          1   \n",
       "\n",
       "     Continente Grupedad Grupedad_cat       Sharks  \n",
       "0        Africa     0-18  Early Adult  Raggedtooth  \n",
       "1        Africa    19-40  Early Adult        White  \n",
       "2        Africa    19-40  Early Adult        Tiger  \n",
       "3        Africa    19-40  Early Adult        White  \n",
       "4        Africa    19-40  Early Adult        White  \n",
       "...         ...      ...          ...          ...  \n",
       "1394      Other    41-60        Adult         Reef  \n",
       "1395      Other    19-40        Adult         Reef  \n",
       "1396      Other     0-18        Child     Blacktip  \n",
       "1397      Other    19-40  Early Adult        Tiger  \n",
       "1398      Other    19-40  Early Adult        Tiger  \n",
       "\n",
       "[1399 rows x 12 columns]"
      ]
     },
     "execution_count": 62,
     "metadata": {},
     "output_type": "execute_result"
    }
   ],
   "source": [
    "hip3.reset_index(drop=True)"
   ]
  },
  {
   "cell_type": "code",
   "execution_count": 63,
   "metadata": {},
   "outputs": [],
   "source": [
    "hip3['Sharks'] = hip3['Sharks'].astype(str)"
   ]
  },
  {
   "cell_type": "code",
   "execution_count": 67,
   "metadata": {},
   "outputs": [
    {
     "data": {
      "image/png": "[encoded data removed]",
      "text/plain": [
       "<Figure size 1000x1000 with 1 Axes>"
      ]
     },
     "metadata": {},
     "output_type": "display_data"
    }
   ],
   "source": [
    "sharks=hip3[\"Sharks\"]\n",
    "text = \" \".join(i for i in sharks)\n",
    "mask = np.array(Image.open(\"images/shark.png\"))\n",
    "stopwords=set(STOPWORDS)\n",
    "wordcloud = WordCloud(stopwords=stopwords, background_color=\"black\", max_words=400, mask=mask, colormap=\"Blues\", contour_width=3, contour_color=\"blue\").generate(text)\n",
    "plt.figure( figsize=(10,10))\n",
    "plt.title(\"Beware!! Which is the most dangerous shark?\", weight=\"bold\", size=25, color=\"Blue\")\n",
    "plt.imshow(wordcloud, interpolation='bilinear')\n",
    "plt.axis(\"off\")\n",
    "plt.savefig('images/Shark_wc.png', bbox_inches='tight', dpi=300)\n",
    "plt.show()\n"
   ]
  },
  {
   "cell_type": "code",
   "execution_count": 65,
   "metadata": {},
   "outputs": [],
   "source": [
    "hip3.to_excel(\"datasets/sa_hip3.xlsx\")"
   ]
  },
  {
   "cell_type": "code",
   "execution_count": null,
   "metadata": {},
   "outputs": [],
   "source": []
  }
 ],
 "metadata": {
  "kernelspec": {
   "display_name": "ironhack",
   "language": "python",
   "name": "python3"
  },
  "language_info": {
   "codemirror_mode": {
    "name": "ipython",
    "version": 3
   },
   "file_extension": ".py",
   "mimetype": "text/x-python",
   "name": "python",
   "nbconvert_exporter": "python",
   "pygments_lexer": "ipython3",
   "version": "3.11.7"
  }
 },
 "nbformat": 4,
 "nbformat_minor": 2
}
